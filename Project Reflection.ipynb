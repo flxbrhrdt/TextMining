{
 "cells": [
  {
   "attachments": {},
   "cell_type": "markdown",
   "metadata": {},
   "source": [
    "# Project Writeup and Reflection\n",
    "\n",
    "\n",
    "#### Project Overview \n",
    "What data source(s) did you use and what technique(s) did you use analyze/process them? What did you hope to learn/create?\n",
    "\n",
    "I used several e-books from Project Gutenberg and put them into my cosine similarity algorithm, in order to measure similarity between different books and authors. \n",
    "\n",
    "\n",
    "#### Implementation\n",
    "\n",
    "The goal is to measure the similarity between two strings by the amount of usage of certain words. This should be implemented by measuring the cosine between two vectors. The Vector gets created by a wordcounter that returns a counter with all words and its frequencies. The comparison takes place in the cosine function. Its syntax is based on the eucledian dot product. To measure the similarity, you take the cosine of the angle between both. If both are colinear (the same) the angle is 0 degree, so the cosine is 1. if they have no similarities the angle is 90 degree, which means the cosine is 0. As result the output range goes from 0 to 1.\n",
    "\n",
    "\n",
    "#### Results\n",
    "   \n",
    "I chose \"Great Expectations\", \"A tale of two cities\" and \"A christmas carol\"  by Charles Dickens, \"Crito\" and \"Plato's Republic\" by Plato \"Metarmophosis\" by Kafka, and Moby Dick form Melville for my analyis. \n",
    "    \n",
    "Dickens and Melville are really similar both, which can be caused by the fact, that both are from the same era. Plato's Crito also really similar to the mentioned Dickens and Melville. Nneither the text of Kafka nor the ones from plato were originally written in english, wherefore there's a tremendous impact by the translater of the book, what needs to be noted.\n",
    "\n",
    "To sum it up, you are able to get information about date the book emerged, but probably no (at least secure) information about the author. You should also be cautious with using texts that wasn't originally written in the same language as the others.\n",
    "\n",
    "[[1.0, 0.95, 0.93, 0.85, 0.81, 0.86, 0.9],\n",
    " [0.95, 1.0, 0.97, 0.92, 0.86, 0.92, 0.97],\n",
    " [0.93, 0.97, 1.0, 0.89, 0.83, 0.91, 0.94],\n",
    " [0.85, 0.92, 0.89, 1.0, 0.93, 0.81, 0.92],\n",
    " [0.81, 0.86, 0.83, 0.93, 1.0, 0.77, 0.84],\n",
    " [0.86, 0.92, 0.91, 0.81, 0.77, 1.0, 0.88],\n",
    " [0.9, 0.97, 0.94, 0.92, 0.84, 0.88, 1.0]]\n",
    "\n",
    "#### Reflection \n",
    " \n",
    "what went well?\n",
    "\n",
    "I structured a complex program in many functions on my own for the first time. Also the output was informative.\n",
    "\n",
    "What could you improve?\n",
    "\n",
    "I am still not 100 % familar with the process of Recursion and tried to avoid it. Because of the. \n",
    "\n",
    "Was your project appropriately scoped?\n",
    "\n",
    "It took a while to get in touch, especially because it wasn't really clear what my task was. I also did a lot of research for this topic. I also wanted to deal with the markov synthesis, but because of other homework I unfortunatel didn't have the time to do so. "
   ]
  },
  {
   "cell_type": "code",
   "execution_count": null,
   "metadata": {
    "collapsed": true
   },
   "outputs": [],
   "source": []
  }
 ],
 "metadata": {
  "kernelspec": {
   "display_name": "Python 3",
   "language": "python",
   "name": "python3"
  },
  "language_info": {
   "codemirror_mode": {
    "name": "ipython",
    "version": 3
   },
   "file_extension": ".py",
   "mimetype": "text/x-python",
   "name": "python",
   "nbconvert_exporter": "python",
   "pygments_lexer": "ipython3",
   "version": "3.6.1"
  }
 },
 "nbformat": 4,
 "nbformat_minor": 2
}
